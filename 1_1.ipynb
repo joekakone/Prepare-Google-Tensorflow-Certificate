{
  "nbformat": 4,
  "nbformat_minor": 0,
  "metadata": {
    "colab": {
      "provenance": [],
      "authorship_tag": "ABX9TyPI42C3SR99LPmeSfIadabz",
      "include_colab_link": true
    },
    "kernelspec": {
      "name": "python3",
      "display_name": "Python 3"
    },
    "language_info": {
      "name": "python"
    }
  },
  "cells": [
    {
      "cell_type": "markdown",
      "metadata": {
        "id": "view-in-github",
        "colab_type": "text"
      },
      "source": [
        "<a href=\"https://colab.research.google.com/github/joekakone/Prepare-Google-Tensorflow-Certificate/blob/master/1_1.ipynb\" target=\"_parent\"><img src=\"https://colab.research.google.com/assets/colab-badge.svg\" alt=\"Open In Colab\"/></a>"
      ]
    },
    {
      "cell_type": "markdown",
      "source": [
        "# Part 1: Build and train neural network models using TensorFlow 2.x\n",
        "- **1.1: Linear regression (Football players values)** [[Notebook]](1_1.ipynb)\n",
        "- 1.2: Iris flowers classification [[Notebook]](1_2.ipynb)"
      ],
      "metadata": {
        "id": "79E9T_vAPzLw"
      }
    },
    {
      "cell_type": "markdown",
      "source": [
        "## Packages"
      ],
      "metadata": {
        "id": "FSXDVQyrHMsX"
      }
    },
    {
      "cell_type": "code",
      "execution_count": 1,
      "metadata": {
        "id": "1CtBNoWyHBfP"
      },
      "outputs": [],
      "source": [
        "import math\n",
        "\n",
        "import tensorflow as tf\n",
        "from tensorflow import keras\n",
        "\n",
        "from sklearn.datasets import make_regression\n",
        "from sklearn.model_selection import train_test_split\n",
        "from sklearn.metrics import mean_squared_error\n",
        "\n",
        "import matplotlib.pyplot as plt"
      ]
    },
    {
      "cell_type": "code",
      "source": [
        "tf.__version__"
      ],
      "metadata": {
        "colab": {
          "base_uri": "https://localhost:8080/",
          "height": 35
        },
        "id": "JMSB4mKDHY8y",
        "outputId": "44c4cc91-08de-4eac-a611-071a94157a39"
      },
      "execution_count": 2,
      "outputs": [
        {
          "output_type": "execute_result",
          "data": {
            "text/plain": [
              "'2.9.2'"
            ],
            "application/vnd.google.colaboratory.intrinsic+json": {
              "type": "string"
            }
          },
          "metadata": {},
          "execution_count": 2
        }
      ]
    },
    {
      "cell_type": "markdown",
      "source": [
        "## Config"
      ],
      "metadata": {
        "id": "LT83Oki3GDYd"
      }
    },
    {
      "cell_type": "code",
      "source": [
        "n_samples = 1000\n",
        "n_features = 8\n",
        "test_size = .3\n",
        "learning_rate = 0.01\n",
        "n_epochs = 30\n",
        "batch_size = 48"
      ],
      "metadata": {
        "id": "HwEg3CzdGGP1"
      },
      "execution_count": 3,
      "outputs": []
    },
    {
      "cell_type": "markdown",
      "source": [
        "## Get data"
      ],
      "metadata": {
        "id": "J8PEeoHUHmGq"
      }
    },
    {
      "cell_type": "code",
      "source": [
        " X, y = make_regression(n_samples=n_samples, n_features=n_features)"
      ],
      "metadata": {
        "id": "HYUQ3E0rJ0Yx"
      },
      "execution_count": 4,
      "outputs": []
    },
    {
      "cell_type": "code",
      "source": [
        "X_train, X_test, y_train, y_test = train_test_split(X, y, test_size=test_size)"
      ],
      "metadata": {
        "id": "OPSJshKnHa6B"
      },
      "execution_count": 5,
      "outputs": []
    },
    {
      "cell_type": "markdown",
      "source": [
        "## Design model"
      ],
      "metadata": {
        "id": "DMIKsIIGIix_"
      }
    },
    {
      "cell_type": "code",
      "source": [
        "# model = keras.Sequential([keras.layers.Dense(units=1, input_shape=(n_features,))])\n",
        "model = keras.Sequential()\n",
        "model.add(keras.layers.Dense(units=1, input_shape=(n_features,)))\n",
        "model.summary()"
      ],
      "metadata": {
        "id": "FpBuuYOoIHmg",
        "colab": {
          "base_uri": "https://localhost:8080/"
        },
        "outputId": "8f9119c1-dd8e-4edf-e677-98a6a0e17267"
      },
      "execution_count": 6,
      "outputs": [
        {
          "output_type": "stream",
          "name": "stdout",
          "text": [
            "Model: \"sequential\"\n",
            "_________________________________________________________________\n",
            " Layer (type)                Output Shape              Param #   \n",
            "=================================================================\n",
            " dense (Dense)               (None, 1)                 9         \n",
            "                                                                 \n",
            "=================================================================\n",
            "Total params: 9\n",
            "Trainable params: 9\n",
            "Non-trainable params: 0\n",
            "_________________________________________________________________\n"
          ]
        }
      ]
    },
    {
      "cell_type": "code",
      "source": [
        "keras.utils.plot_model(model=model, show_shapes=True)"
      ],
      "metadata": {
        "colab": {
          "base_uri": "https://localhost:8080/",
          "height": 201
        },
        "id": "f_RHhUNOGUkh",
        "outputId": "3fdf333f-03d4-4749-a8fc-943f856a52b5"
      },
      "execution_count": 7,
      "outputs": [
        {
          "output_type": "execute_result",
          "data": {
            "image/png": "[encoded data removed]",
            "text/plain": [
              "<IPython.core.display.Image object>"
            ]
          },
          "metadata": {},
          "execution_count": 7
        }
      ]
    },
    {
      "cell_type": "markdown",
      "source": [
        "## Train model"
      ],
      "metadata": {
        "id": "UVFBjJw5HQo5"
      }
    },
    {
      "cell_type": "code",
      "source": [
        "# model.compile(loss='mean_squared_error', optimizer='sgd', metrics=['root_mean_squared_error'])\n",
        "# keras.backend.set_value(model.optimizer.lr, learning_rate)\n",
        "model.compile(\n",
        "    loss=keras.losses.MeanSquaredError(), \n",
        "    optimizer=keras.optimizers.SGD(learning_rate=learning_rate), \n",
        "    metrics=[keras.metrics.RootMeanSquaredError()]\n",
        ")"
      ],
      "metadata": {
        "id": "ssFX0WsxHEa5"
      },
      "execution_count": 8,
      "outputs": []
    },
    {
      "cell_type": "code",
      "source": [
        "steps_per_epoch = math.ceil(len(X_train) / 48)\n",
        "\n",
        "history = model.fit(X_train, y_train, validation_data=[X_test, y_test], epochs=n_epochs, steps_per_epoch=steps_per_epoch)"
      ],
      "metadata": {
        "colab": {
          "base_uri": "https://localhost:8080/"
        },
        "id": "Ph-aO0JQLsi5",
        "outputId": "c89cea8d-1285-4c27-9f65-390e2bbe8edb"
      },
      "execution_count": 9,
      "outputs": [
        {
          "output_type": "stream",
          "name": "stdout",
          "text": [
            "Epoch 1/30\n",
            "15/15 [==============================] - 1s 15ms/step - loss: 12542.7461 - root_mean_squared_error: 111.9944 - val_loss: 9378.7305 - val_root_mean_squared_error: 96.8438\n",
            "Epoch 2/30\n",
            "15/15 [==============================] - 0s 4ms/step - loss: 6745.5522 - root_mean_squared_error: 82.1313 - val_loss: 5089.3843 - val_root_mean_squared_error: 71.3399\n",
            "Epoch 3/30\n",
            "15/15 [==============================] - 0s 4ms/step - loss: 3639.7239 - root_mean_squared_error: 60.3301 - val_loss: 2766.3040 - val_root_mean_squared_error: 52.5957\n",
            "Epoch 4/30\n",
            "15/15 [==============================] - 0s 4ms/step - loss: 1968.6736 - root_mean_squared_error: 44.3697 - val_loss: 1507.0908 - val_root_mean_squared_error: 38.8213\n",
            "Epoch 5/30\n",
            "15/15 [==============================] - 0s 4ms/step - loss: 1067.6790 - root_mean_squared_error: 32.6754 - val_loss: 824.0579 - val_root_mean_squared_error: 28.7064\n",
            "Epoch 6/30\n",
            "15/15 [==============================] - 0s 4ms/step - loss: 581.0303 - root_mean_squared_error: 24.1046 - val_loss: 451.4613 - val_root_mean_squared_error: 21.2476\n",
            "Epoch 7/30\n",
            "15/15 [==============================] - 0s 5ms/step - loss: 316.9391 - root_mean_squared_error: 17.8028 - val_loss: 247.9286 - val_root_mean_squared_error: 15.7457\n",
            "Epoch 8/30\n",
            "15/15 [==============================] - 0s 5ms/step - loss: 173.3474 - root_mean_squared_error: 13.1661 - val_loss: 136.4342 - val_root_mean_squared_error: 11.6805\n",
            "Epoch 9/30\n",
            "15/15 [==============================] - 0s 4ms/step - loss: 95.0102 - root_mean_squared_error: 9.7473 - val_loss: 75.2261 - val_root_mean_squared_error: 8.6733\n",
            "Epoch 10/30\n",
            "15/15 [==============================] - 0s 4ms/step - loss: 52.2089 - root_mean_squared_error: 7.2256 - val_loss: 41.6122 - val_root_mean_squared_error: 6.4508\n",
            "Epoch 11/30\n",
            "15/15 [==============================] - 0s 4ms/step - loss: 28.7579 - root_mean_squared_error: 5.3626 - val_loss: 23.0242 - val_root_mean_squared_error: 4.7984\n",
            "Epoch 12/30\n",
            "15/15 [==============================] - 0s 5ms/step - loss: 15.8577 - root_mean_squared_error: 3.9822 - val_loss: 12.7827 - val_root_mean_squared_error: 3.5753\n",
            "Epoch 13/30\n",
            "15/15 [==============================] - 0s 5ms/step - loss: 8.7711 - root_mean_squared_error: 2.9616 - val_loss: 7.1087 - val_root_mean_squared_error: 2.6662\n",
            "Epoch 14/30\n",
            "15/15 [==============================] - 0s 4ms/step - loss: 4.8619 - root_mean_squared_error: 2.2050 - val_loss: 3.9630 - val_root_mean_squared_error: 1.9907\n",
            "Epoch 15/30\n",
            "15/15 [==============================] - 0s 4ms/step - loss: 2.7006 - root_mean_squared_error: 1.6433 - val_loss: 2.2202 - val_root_mean_squared_error: 1.4900\n",
            "Epoch 16/30\n",
            "15/15 [==============================] - 0s 4ms/step - loss: 1.5086 - root_mean_squared_error: 1.2282 - val_loss: 1.2444 - val_root_mean_squared_error: 1.1155\n",
            "Epoch 17/30\n",
            "15/15 [==============================] - 0s 5ms/step - loss: 0.8428 - root_mean_squared_error: 0.9180 - val_loss: 0.6993 - val_root_mean_squared_error: 0.8363\n",
            "Epoch 18/30\n",
            "15/15 [==============================] - 0s 4ms/step - loss: 0.4724 - root_mean_squared_error: 0.6873 - val_loss: 0.3941 - val_root_mean_squared_error: 0.6278\n",
            "Epoch 19/30\n",
            "15/15 [==============================] - 0s 4ms/step - loss: 0.2654 - root_mean_squared_error: 0.5151 - val_loss: 0.2226 - val_root_mean_squared_error: 0.4718\n",
            "Epoch 20/30\n",
            "15/15 [==============================] - 0s 4ms/step - loss: 0.1496 - root_mean_squared_error: 0.3868 - val_loss: 0.1259 - val_root_mean_squared_error: 0.3548\n",
            "Epoch 21/30\n",
            "15/15 [==============================] - 0s 4ms/step - loss: 0.0844 - root_mean_squared_error: 0.2905 - val_loss: 0.0714 - val_root_mean_squared_error: 0.2673\n",
            "Epoch 22/30\n",
            "15/15 [==============================] - 0s 4ms/step - loss: 0.0478 - root_mean_squared_error: 0.2185 - val_loss: 0.0406 - val_root_mean_squared_error: 0.2015\n",
            "Epoch 23/30\n",
            "15/15 [==============================] - 0s 4ms/step - loss: 0.0271 - root_mean_squared_error: 0.1645 - val_loss: 0.0231 - val_root_mean_squared_error: 0.1521\n",
            "Epoch 24/30\n",
            "15/15 [==============================] - 0s 5ms/step - loss: 0.0154 - root_mean_squared_error: 0.1241 - val_loss: 0.0132 - val_root_mean_squared_error: 0.1149\n",
            "Epoch 25/30\n",
            "15/15 [==============================] - 0s 6ms/step - loss: 0.0088 - root_mean_squared_error: 0.0936 - val_loss: 0.0076 - val_root_mean_squared_error: 0.0869\n",
            "Epoch 26/30\n",
            "15/15 [==============================] - 0s 6ms/step - loss: 0.0050 - root_mean_squared_error: 0.0707 - val_loss: 0.0043 - val_root_mean_squared_error: 0.0658\n",
            "Epoch 27/30\n",
            "15/15 [==============================] - 0s 6ms/step - loss: 0.0029 - root_mean_squared_error: 0.0535 - val_loss: 0.0025 - val_root_mean_squared_error: 0.0499\n",
            "Epoch 28/30\n",
            "15/15 [==============================] - 0s 5ms/step - loss: 0.0016 - root_mean_squared_error: 0.0405 - val_loss: 0.0014 - val_root_mean_squared_error: 0.0378\n",
            "Epoch 29/30\n",
            "15/15 [==============================] - 0s 7ms/step - loss: 9.4229e-04 - root_mean_squared_error: 0.0307 - val_loss: 8.2601e-04 - val_root_mean_squared_error: 0.0287\n",
            "Epoch 30/30\n",
            "15/15 [==============================] - 0s 5ms/step - loss: 5.4204e-04 - root_mean_squared_error: 0.0233 - val_loss: 4.7694e-04 - val_root_mean_squared_error: 0.0218\n"
          ]
        }
      ]
    },
    {
      "cell_type": "markdown",
      "source": [
        "## Training Reporting"
      ],
      "metadata": {
        "id": "Rn_xFpicUwoK"
      }
    },
    {
      "cell_type": "code",
      "source": [
        "root_mean_squared_error = history.history['root_mean_squared_error']\n",
        "loss = history.history['loss']\n",
        "val_root_mean_squared_error = history.history['val_root_mean_squared_error']\n",
        "val_loss = history.history['val_loss']\n",
        "epochs = range(1, len(loss) + 1)\n",
        "\n",
        "plt.figure(figsize=(8, 4))\n",
        "plt.plot(epochs, root_mean_squared_error, 'bo', label='Training RMSE')\n",
        "plt.plot(epochs, val_root_mean_squared_error, 'b', label='Validation RMSE')\n",
        "plt.xlabel('Epoch')\n",
        "plt.ylabel('RMSE')\n",
        "plt.title('Training and validation RMSE')\n",
        "plt.legend(loc='best')\n",
        "plt.show()\n",
        "\n",
        "plt.figure(figsize=(8, 4))\n",
        "plt.plot(epochs, loss, 'bo', label='Training Loss')\n",
        "plt.plot(epochs, val_loss, 'b', label='Validation Loss')\n",
        "plt.xlabel('Epoch')\n",
        "plt.ylabel('Loss')\n",
        "plt.title('Training and validation loss')\n",
        "plt.legend(loc='best')\n",
        "plt.show()"
      ],
      "metadata": {
        "colab": {
          "base_uri": "https://localhost:8080/",
          "height": 573
        },
        "id": "Hr3pv_VPM5Rl",
        "outputId": "a8bb75c5-5c8f-4c0c-9d19-a00869cf9ecf"
      },
      "execution_count": 10,
      "outputs": [
        {
          "output_type": "display_data",
          "data": {
            "text/plain": [
              "<Figure size 576x288 with 1 Axes>"
            ],
            "image/png": "[encoded data removed]"
          },
          "metadata": {
            "needs_background": "light"
          }
        },
        {
          "output_type": "display_data",
          "data": {
            "text/plain": [
              "<Figure size 576x288 with 1 Axes>"
            ],
            "image/png": "[encoded data removed]"
          },
          "metadata": {
            "needs_background": "light"
          }
        }
      ]
    },
    {
      "cell_type": "markdown",
      "source": [
        "## Save model"
      ],
      "metadata": {
        "id": "rq_XxJhsUS-8"
      }
    },
    {
      "cell_type": "code",
      "source": [
        "model_path = 'model_1_1.h5'\n",
        "model.save(filepath=model_path)"
      ],
      "metadata": {
        "id": "hav0RbprRump"
      },
      "execution_count": 11,
      "outputs": []
    }
  ]
}