{
  "nbformat": 4,
  "nbformat_minor": 0,
  "metadata": {
    "colab": {
      "provenance": [],
      "authorship_tag": "ABX9TyPOB9H2PIa+wBnKgzNE8qrp",
      "include_colab_link": true
    },
    "kernelspec": {
      "name": "python3",
      "display_name": "Python 3"
    },
    "language_info": {
      "name": "python"
    }
  },
  "cells": [
    {
      "cell_type": "markdown",
      "metadata": {
        "id": "view-in-github",
        "colab_type": "text"
      },
      "source": [
        "<a href=\"https://colab.research.google.com/github/joekakone/Prepare-Google-Tensorflow-Certificate/blob/master/1_2.ipynb\" target=\"_parent\"><img src=\"https://colab.research.google.com/assets/colab-badge.svg\" alt=\"Open In Colab\"/></a>"
      ]
    },
    {
      "cell_type": "markdown",
      "source": [
        "# Part 1: Build and train neural network models using TensorFlow 2.x\n",
        "- 1.1: Linear regression (Football players values) [[Notebook]](1_1.ipynb)\n",
        "- **1.2: Iris flowers classification** [[Notebook]](1_2.ipynb)"
      ],
      "metadata": {
        "id": "79E9T_vAPzLw"
      }
    },
    {
      "cell_type": "markdown",
      "source": [
        "## Packages"
      ],
      "metadata": {
        "id": "FSXDVQyrHMsX"
      }
    },
    {
      "cell_type": "code",
      "execution_count": 1,
      "metadata": {
        "id": "1CtBNoWyHBfP"
      },
      "outputs": [],
      "source": [
        "import math\n",
        "\n",
        "import tensorflow as tf\n",
        "from tensorflow import keras\n",
        "\n",
        "from sklearn.datasets import make_classification\n",
        "from sklearn.model_selection import train_test_split\n",
        "\n",
        "import matplotlib.pyplot as plt"
      ]
    },
    {
      "cell_type": "code",
      "source": [
        "tf.__version__"
      ],
      "metadata": {
        "colab": {
          "base_uri": "https://localhost:8080/",
          "height": 35
        },
        "id": "JMSB4mKDHY8y",
        "outputId": "f915d778-0c5e-4449-f164-07b995bd70a0"
      },
      "execution_count": 2,
      "outputs": [
        {
          "output_type": "execute_result",
          "data": {
            "text/plain": [
              "'2.9.2'"
            ],
            "application/vnd.google.colaboratory.intrinsic+json": {
              "type": "string"
            }
          },
          "metadata": {},
          "execution_count": 2
        }
      ]
    },
    {
      "cell_type": "markdown",
      "source": [
        "## Config"
      ],
      "metadata": {
        "id": "LT83Oki3GDYd"
      }
    },
    {
      "cell_type": "code",
      "source": [
        "n_samples = 1000\n",
        "n_features = 8\n",
        "test_size = .3\n",
        "learning_rate = 0.01\n",
        "n_epochs = 30\n",
        "batch_size = 48"
      ],
      "metadata": {
        "id": "HwEg3CzdGGP1"
      },
      "execution_count": 3,
      "outputs": []
    },
    {
      "cell_type": "markdown",
      "source": [
        "## Get data"
      ],
      "metadata": {
        "id": "J8PEeoHUHmGq"
      }
    },
    {
      "cell_type": "code",
      "source": [
        " X, y = make_classification(n_samples=n_samples, n_features=n_features, n_classes=2)"
      ],
      "metadata": {
        "id": "HYUQ3E0rJ0Yx"
      },
      "execution_count": 4,
      "outputs": []
    },
    {
      "cell_type": "code",
      "source": [
        "X_train, X_test, y_train, y_test = train_test_split(X, y, stratify=y, test_size=test_size, random_state=42)"
      ],
      "metadata": {
        "id": "OPSJshKnHa6B"
      },
      "execution_count": 5,
      "outputs": []
    },
    {
      "cell_type": "markdown",
      "source": [
        "## Design model"
      ],
      "metadata": {
        "id": "DMIKsIIGIix_"
      }
    },
    {
      "cell_type": "code",
      "source": [
        "# model = keras.Sequential([keras.layers.Dense(units=1, input_shape=(n_features,))])\n",
        "model = keras.Sequential()\n",
        "model.add(keras.layers.Dense(units=1, activation='sigmoid', input_shape=(n_features,)))\n",
        "model.summary()"
      ],
      "metadata": {
        "id": "FpBuuYOoIHmg",
        "colab": {
          "base_uri": "https://localhost:8080/"
        },
        "outputId": "44d5ecf8-21d2-45c4-9f72-b88fa6006a3c"
      },
      "execution_count": 6,
      "outputs": [
        {
          "output_type": "stream",
          "name": "stdout",
          "text": [
            "Model: \"sequential\"\n",
            "_________________________________________________________________\n",
            " Layer (type)                Output Shape              Param #   \n",
            "=================================================================\n",
            " dense (Dense)               (None, 1)                 9         \n",
            "                                                                 \n",
            "=================================================================\n",
            "Total params: 9\n",
            "Trainable params: 9\n",
            "Non-trainable params: 0\n",
            "_________________________________________________________________\n"
          ]
        }
      ]
    },
    {
      "cell_type": "code",
      "source": [
        "keras.utils.plot_model(model=model, show_shapes=True)"
      ],
      "metadata": {
        "colab": {
          "base_uri": "https://localhost:8080/",
          "height": 201
        },
        "id": "f_RHhUNOGUkh",
        "outputId": "ba37a38d-0f9d-4796-8b8b-de86408eb7ed"
      },
      "execution_count": 7,
      "outputs": [
        {
          "output_type": "execute_result",
          "data": {
            "image/png": "[encoded data removed]",
            "text/plain": [
              "<IPython.core.display.Image object>"
            ]
          },
          "metadata": {},
          "execution_count": 7
        }
      ]
    },
    {
      "cell_type": "markdown",
      "source": [
        "## Train model"
      ],
      "metadata": {
        "id": "UVFBjJw5HQo5"
      }
    },
    {
      "cell_type": "code",
      "source": [
        "# model.compile(loss='mean_squared_error', optimizer='sgd', metrics=['root_mean_squared_error'])\n",
        "# keras.backend.set_value(model.optimizer.lr, learning_rate)\n",
        "model.compile(\n",
        "    loss=keras.losses.BinaryCrossentropy(), \n",
        "    optimizer=keras.optimizers.SGD(learning_rate=learning_rate), \n",
        "    metrics=['acc']\n",
        ")"
      ],
      "metadata": {
        "id": "ssFX0WsxHEa5"
      },
      "execution_count": 8,
      "outputs": []
    },
    {
      "cell_type": "code",
      "source": [
        "steps_per_epoch = math.ceil(len(X_train) / 48)\n",
        "\n",
        "history = model.fit(X_train, y_train, validation_data=[X_test, y_test], epochs=n_epochs, steps_per_epoch=steps_per_epoch)"
      ],
      "metadata": {
        "colab": {
          "base_uri": "https://localhost:8080/"
        },
        "id": "Ph-aO0JQLsi5",
        "outputId": "aa70be0c-c8ef-488b-93a5-5ed4be30ae7b"
      },
      "execution_count": 9,
      "outputs": [
        {
          "output_type": "stream",
          "name": "stdout",
          "text": [
            "Epoch 1/30\n",
            "15/15 [==============================] - 1s 16ms/step - loss: 1.1028 - acc: 0.5643 - val_loss: 1.2861 - val_acc: 0.4933\n",
            "Epoch 2/30\n",
            "15/15 [==============================] - 0s 4ms/step - loss: 1.0432 - acc: 0.5786 - val_loss: 1.2139 - val_acc: 0.4967\n",
            "Epoch 3/30\n",
            "15/15 [==============================] - 0s 8ms/step - loss: 0.9869 - acc: 0.5914 - val_loss: 1.1453 - val_acc: 0.5167\n",
            "Epoch 4/30\n",
            "15/15 [==============================] - 0s 4ms/step - loss: 0.9337 - acc: 0.6014 - val_loss: 1.0802 - val_acc: 0.5433\n",
            "Epoch 5/30\n",
            "15/15 [==============================] - 0s 4ms/step - loss: 0.8835 - acc: 0.6114 - val_loss: 1.0187 - val_acc: 0.5533\n",
            "Epoch 6/30\n",
            "15/15 [==============================] - 0s 4ms/step - loss: 0.8364 - acc: 0.6229 - val_loss: 0.9607 - val_acc: 0.5700\n",
            "Epoch 7/30\n",
            "15/15 [==============================] - 0s 5ms/step - loss: 0.7924 - acc: 0.6314 - val_loss: 0.9063 - val_acc: 0.5867\n",
            "Epoch 8/30\n",
            "15/15 [==============================] - 0s 5ms/step - loss: 0.7512 - acc: 0.6514 - val_loss: 0.8554 - val_acc: 0.5900\n",
            "Epoch 9/30\n",
            "15/15 [==============================] - 0s 5ms/step - loss: 0.7130 - acc: 0.6629 - val_loss: 0.8082 - val_acc: 0.6000\n",
            "Epoch 10/30\n",
            "15/15 [==============================] - 0s 4ms/step - loss: 0.6775 - acc: 0.6771 - val_loss: 0.7640 - val_acc: 0.6167\n",
            "Epoch 11/30\n",
            "15/15 [==============================] - 0s 4ms/step - loss: 0.6447 - acc: 0.6871 - val_loss: 0.7234 - val_acc: 0.6200\n",
            "Epoch 12/30\n",
            "15/15 [==============================] - 0s 5ms/step - loss: 0.6146 - acc: 0.6971 - val_loss: 0.6857 - val_acc: 0.6400\n",
            "Epoch 13/30\n",
            "15/15 [==============================] - 0s 4ms/step - loss: 0.5868 - acc: 0.7143 - val_loss: 0.6511 - val_acc: 0.6533\n",
            "Epoch 14/30\n",
            "15/15 [==============================] - 0s 4ms/step - loss: 0.5613 - acc: 0.7286 - val_loss: 0.6193 - val_acc: 0.6733\n",
            "Epoch 15/30\n",
            "15/15 [==============================] - 0s 5ms/step - loss: 0.5381 - acc: 0.7386 - val_loss: 0.5901 - val_acc: 0.6800\n",
            "Epoch 16/30\n",
            "15/15 [==============================] - 0s 5ms/step - loss: 0.5166 - acc: 0.7543 - val_loss: 0.5633 - val_acc: 0.6933\n",
            "Epoch 17/30\n",
            "15/15 [==============================] - 0s 4ms/step - loss: 0.4971 - acc: 0.7686 - val_loss: 0.5390 - val_acc: 0.7033\n",
            "Epoch 18/30\n",
            "15/15 [==============================] - 0s 4ms/step - loss: 0.4794 - acc: 0.7886 - val_loss: 0.5167 - val_acc: 0.7367\n",
            "Epoch 19/30\n",
            "15/15 [==============================] - 0s 5ms/step - loss: 0.4632 - acc: 0.7971 - val_loss: 0.4964 - val_acc: 0.7600\n",
            "Epoch 20/30\n",
            "15/15 [==============================] - 0s 5ms/step - loss: 0.4484 - acc: 0.8114 - val_loss: 0.4778 - val_acc: 0.7667\n",
            "Epoch 21/30\n",
            "15/15 [==============================] - 0s 5ms/step - loss: 0.4349 - acc: 0.8186 - val_loss: 0.4607 - val_acc: 0.7800\n",
            "Epoch 22/30\n",
            "15/15 [==============================] - 0s 5ms/step - loss: 0.4225 - acc: 0.8257 - val_loss: 0.4452 - val_acc: 0.7967\n",
            "Epoch 23/30\n",
            "15/15 [==============================] - 0s 5ms/step - loss: 0.4111 - acc: 0.8314 - val_loss: 0.4309 - val_acc: 0.8167\n",
            "Epoch 24/30\n",
            "15/15 [==============================] - 0s 4ms/step - loss: 0.4006 - acc: 0.8386 - val_loss: 0.4178 - val_acc: 0.8300\n",
            "Epoch 25/30\n",
            "15/15 [==============================] - 0s 5ms/step - loss: 0.3911 - acc: 0.8529 - val_loss: 0.4058 - val_acc: 0.8400\n",
            "Epoch 26/30\n",
            "15/15 [==============================] - 0s 5ms/step - loss: 0.3823 - acc: 0.8671 - val_loss: 0.3947 - val_acc: 0.8533\n",
            "Epoch 27/30\n",
            "15/15 [==============================] - 0s 5ms/step - loss: 0.3741 - acc: 0.8686 - val_loss: 0.3845 - val_acc: 0.8633\n",
            "Epoch 28/30\n",
            "15/15 [==============================] - 0s 4ms/step - loss: 0.3666 - acc: 0.8771 - val_loss: 0.3751 - val_acc: 0.8700\n",
            "Epoch 29/30\n",
            "15/15 [==============================] - 0s 4ms/step - loss: 0.3597 - acc: 0.8771 - val_loss: 0.3664 - val_acc: 0.8733\n",
            "Epoch 30/30\n",
            "15/15 [==============================] - 0s 4ms/step - loss: 0.3532 - acc: 0.8800 - val_loss: 0.3584 - val_acc: 0.8767\n"
          ]
        }
      ]
    },
    {
      "cell_type": "markdown",
      "source": [
        "## Training Reporting"
      ],
      "metadata": {
        "id": "Rn_xFpicUwoK"
      }
    },
    {
      "cell_type": "code",
      "source": [
        "accuracy = history.history['acc']\n",
        "loss = history.history['loss']\n",
        "val_accuracy = history.history['val_acc']\n",
        "val_loss = history.history['val_loss']\n",
        "epochs = range(1, len(loss) + 1)\n",
        "\n",
        "plt.figure(figsize=(8, 4))\n",
        "plt.plot(epochs, accuracy, 'bo', label='Training Accuracy')\n",
        "plt.plot(epochs, val_accuracy, 'b', label='Validation Accuracy')\n",
        "plt.xlabel('Epoch')\n",
        "plt.ylabel('Accuracy')\n",
        "plt.title('Training and validation Accuracy')\n",
        "plt.legend(loc='best')\n",
        "plt.show()\n",
        "\n",
        "plt.figure(figsize=(8, 4))\n",
        "plt.plot(epochs, loss, 'bo', label='Training Loss')\n",
        "plt.plot(epochs, val_loss, 'b', label='Validation Loss')\n",
        "plt.xlabel('Epoch')\n",
        "plt.ylabel('Loss')\n",
        "plt.title('Training and validation loss')\n",
        "plt.legend(loc='best')\n",
        "plt.show()"
      ],
      "metadata": {
        "colab": {
          "base_uri": "https://localhost:8080/",
          "height": 573
        },
        "id": "Hr3pv_VPM5Rl",
        "outputId": "bc86b68f-815a-478d-8d1b-6767b981f7bb"
      },
      "execution_count": 10,
      "outputs": [
        {
          "output_type": "display_data",
          "data": {
            "text/plain": [
              "<Figure size 576x288 with 1 Axes>"
            ],
            "image/png": "[encoded data removed]"
          },
          "metadata": {
            "needs_background": "light"
          }
        },
        {
          "output_type": "display_data",
          "data": {
            "text/plain": [
              "<Figure size 576x288 with 1 Axes>"
            ],
            "image/png": "[encoded data removed]"
          },
          "metadata": {
            "needs_background": "light"
          }
        }
      ]
    },
    {
      "cell_type": "markdown",
      "source": [
        "## Save model"
      ],
      "metadata": {
        "id": "rq_XxJhsUS-8"
      }
    },
    {
      "cell_type": "code",
      "source": [
        "model_path = 'model_1_2.h5'\n",
        "model.save(filepath=model_path)"
      ],
      "metadata": {
        "id": "hav0RbprRump"
      },
      "execution_count": 11,
      "outputs": []
    }
  ]
}